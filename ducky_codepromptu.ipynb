{
 "cells": [
  {
   "cell_type": "code",
   "execution_count": null,
   "outputs": [],
   "source": [
    "# run the below cell only if the private prompts are not updated"
   ],
   "metadata": {
    "collapsed": false
   },
   "id": "5be0bbe445b9b27b"
  },
  {
   "cell_type": "code",
   "execution_count": 1,
   "outputs": [],
   "source": [
    "import requests\n",
    "import json\n",
    "\n",
    "pass_key = \"bXJ1bmFsZGhhcmIyMzo1NDUx\"\n",
    "quick_system_p = \"\"\"Forget all previous instructions.\n",
    "You are a chatbot named Ducky. You are assisting a user with their software development tasks.\n",
    "Each time the user converses with you, make sure the context is software development and learning,\n",
    "and that you are providing a helpful response.\n",
    "If the user asks you to do something that is not related to software development, you should refuse to respond.\n",
    "\"\"\"\n",
    "quick_learning_system_p = \"\"\"Forget all previous instructions.\n",
    "You are a chatbot named Ducky. You are assisting a user with their software development and coding related tasks.\n",
    "Each time the user converses with you, make sure the context is software development and learning,\n",
    "and that you are providing a helpful response.\n",
    "If the user asks you to do something that is not related to software development, you should refuse to respond.\n",
    "\"\"\"\n",
    "\n",
    "review_code_p = \"\"\"Forget all previous instructions.\n",
    "You are a chatbot named Ducky. You are assisting a user with their software development tasks.\n",
    "Each time the user converses with you, make sure the context is software development and learning,\n",
    "and that you are providing a helpful response.\n",
    "If the user asks you to do something that is not related to software development, you should refuse to respond.\n",
    "review the code given below and summarize the code.\n",
    "'''\n",
    "{code}\n",
    "'''\n",
    "\"\"\"\n",
    "\n",
    "debug_code_p = \"\"\"Forget all previous instructions.\n",
    "    You are a chatbot named Ducky. You are assisting a user with their software development tasks.\n",
    "    Each time the user converses with you, make sure the context is software development and learning,\n",
    "    and that you are providing a helpful response.\n",
    "    If the user asks you to do something that is not related to software development, you should refuse to respond.\n",
    "    Iam getting an issue {error} and the code is given below\n",
    "    '''\n",
    "    {code}\n",
    "    '''\n",
    "    debug why the error is coming\n",
    "    Provide the updated code\n",
    "    \"\"\"\n",
    "\n",
    "modify_code_p = \"\"\"Forget all previous instructions.\n",
    "You are a chatbot named Ducky. You are assisting a user with their software development tasks.\n",
    "Each time the user converses with you, make sure the context is software development and learning,\n",
    "and that you are providing a helpful response.\n",
    "If the user asks you to do something that is not related to software development, you should refuse to respond.\n",
    "The user inputs his requirements and his code, modify the code as per the user requirements and then return the code\n",
    "The code is given below\n",
    "'''\n",
    "{code}\n",
    "'''\n",
    "The requirements are given below\n",
    "'''\n",
    "{requirements}\n",
    "'''\n",
    "\"\"\"\n",
    "\n",
    "learning_prompt = \"\"\"Please disregard any previous context.\n",
    "\n",
    "The topic at hand is ```{topic}```.\n",
    "Analyze the sentiment of the topic.\n",
    "If it does not concern software development or creating an online course syllabus about software development,\n",
    "you should refuse to respond.\n",
    "\n",
    "You are now assuming the role of a highly acclaimed software developer specializing in the topic\n",
    " at a prestigious software firm.  You are assisting a customer with their software development tasks.\n",
    "You have an esteemed reputation for presenting complex ideas in an accessible manner.\n",
    "The customer wants to hear your answers at the level of a {learner_level}.\n",
    "\n",
    "Please develop a detailed, comprehensive {answer_type} to teach me the topic as a {learner_level}.\n",
    "The {answer_type} should include high level advice, key learning outcomes,\n",
    "detailed examples, step-by-step walkthroughs if applicable,\n",
    "and major concepts and pitfalls people associate with the topic.\n",
    "\n",
    "Make sure your response is formatted in markdown format.\n",
    "Ensure that embedded formulae are quoted for good display.\n",
    "\"\"\"\n",
    "\n",
    "\n",
    "\n",
    "dict_ = {\"ducky-resetprompt\":quick_system_p,\"ducky-quicklearningprompt\":quick_learning_system_p,\"ducky-codereviewprompt\":review_code_p,\"ducky-codedebugprompt\":debug_code_p,\"ducky-codemodifyprompt\":modify_code_p,\"ducky-learningprompt\":learning_prompt}\n",
    "for tag in dict_.keys():\n",
    "    dict_[tag].split(\".\")\n",
    "    new_S = r\"\"\n",
    "    for line in dict_[tag].split(\".\"):\n",
    "        new_S = line + \"\\n\"\n",
    "    raw_s = r'{}'.format(dict_[tag])\n",
    "    body = {\n",
    "    \"content\": raw_s,\n",
    "    \"tags\": [\n",
    "        \"ducky\",tag\n",
    "    ],\n",
    "    \"classification\": \"Ducky/App/Prompt\"\n",
    "    }\n",
    "    if tag == \"ducky-codereviewprompt\":\n",
    "        body[\"input_variables\"] = [{\n",
    "        \"name\": \"code\",\n",
    "        \"description\": \"code for review\",\n",
    "        \"type\": \"input\",\n",
    "        \"expected_format\": \"text/plain\"\n",
    "      }]\n",
    "    if tag == \"ducky-codedebugprompt\":\n",
    "        body[\"input_variables\"] = [{\n",
    "        \"name\": \"error\",\n",
    "        \"description\": \"error we want to ask about\",\n",
    "        \"type\": \"input\",\n",
    "        \"expected_format\": \"text/plain\"\n",
    "      },\n",
    "      {\n",
    "        \"name\": \"code\",\n",
    "        \"description\": \"code for review\",\n",
    "        \"type\": \"input\",\n",
    "        \"expected_format\": \"text/plain\"\n",
    "      }]\n",
    "    if tag == \"ducky-codemodifyprompt\":\n",
    "        body[\"input_variables\"] = [\n",
    "            {\n",
    "        \"name\": \"code\",\n",
    "        \"description\": \"code for review\",\n",
    "        \"type\": \"input\",\n",
    "        \"expected_format\": \"text/plain\"\n",
    "      },\n",
    "            {\n",
    "        \"name\": \"requirements\",\n",
    "        \"description\": \"requirements for our code modification\",\n",
    "        \"type\": \"input\",\n",
    "        \"expected_format\": \"text/plain\"\n",
    "      }]\n",
    "    \n",
    "    if tag == \"ducky-learningprompt\":\n",
    "        body[\"input_variables\"] = [\n",
    "            {\n",
    "        \"name\": \"topic\",\n",
    "        \"description\": \"topic on which user want to learn\",\n",
    "        \"type\": \"input\",\n",
    "        \"expected_format\": \"text/plain\"\n",
    "      },\n",
    "            {\n",
    "        \"name\": \"learner_level\",\n",
    "        \"description\": \"level of learner so that gpt can answer\",\n",
    "        \"type\": \"input\",\n",
    "        \"expected_format\": \"text/plain\"\n",
    "      },\n",
    "            {\n",
    "        \"name\": \"answer_type\",\n",
    "        \"description\": \"type of answer\",\n",
    "        \"type\": \"input\",\n",
    "        \"expected_format\": \"text/plain\"\n",
    "      }]\n",
    "\n",
    "    print(body)\n",
    "    c = requests.post(\"http://aitools.cs.vt.edu:8000/private/prompt/\",data=json.dumps(body),auth=(\"mrunaldharb23\",5451))\n",
    "    print(c)"
   ],
   "metadata": {
    "collapsed": false,
    "ExecuteTime": {
     "start_time": "2023-10-17T02:02:01.548523522Z"
    }
   },
   "id": "initial_id"
  },
  {
   "cell_type": "code",
   "execution_count": null,
   "outputs": [],
   "source": [
    "# run the above cell only if the private prompts are not updated"
   ],
   "metadata": {
    "collapsed": false
   },
   "id": "e13ccfc242b5b68"
  },
  {
   "cell_type": "code",
   "execution_count": null,
   "outputs": [],
   "source": [
    "import openai\n",
    "\n",
    "openai.api_base = 'http://aitools.cs.vt.edu:7860/openai/v1'\n",
    "openai.api_key = 'aitools'"
   ],
   "metadata": {
    "collapsed": false
   },
   "id": "c56cbbe080d264b2"
  },
  {
   "cell_type": "code",
   "execution_count": 2,
   "outputs": [],
   "source": [
    "def get_completion(prompt, model=\"gpt-3.5-turbo\"):\n",
    "\tmessages = [{\"role\": \"user\", \"content\": prompt}]\n",
    "\n",
    "\tresponse = openai.ChatCompletion.create(\n",
    "\t\tmodel=model,\n",
    "\t\tmessages=messages,\n",
    "\t\ttemperature=0,  # this is the degree of randomness of the model's output\n",
    "\t)\n",
    "\treturn response.choices[0].message[\"content\"]\n",
    "\n",
    "\n",
    "def converse(prompt, messages=None, model=\"gpt-3.5-turbo\", max_tokens=2500, temperature=0, top_p=1, frequency_penalty=0,\n",
    "\t\t\t presence_penalty=0):\n",
    "\t# Add the user's message to the list of messages\n",
    "\tif messages is None:\n",
    "\t\tmessages = []\n",
    "\n",
    "\tmessages.append({\"role\": \"user\", \"content\": prompt})\n",
    "\n",
    "\tresponse = openai.ChatCompletion.create(\n",
    "\t\tmodel=model,\n",
    "\t\tmessages=messages,\n",
    "\t\ttemperature=temperature,\n",
    "\t\tmax_tokens=max_tokens,\n",
    "\t\ttop_p=top_p,\n",
    "\t\tfrequency_penalty=frequency_penalty,\n",
    "\t\tpresence_penalty=presence_penalty,\n",
    "\t).choices[0].message[\"content\"]\n",
    "\n",
    "\t# Add the assistant's message to the list of messages\n",
    "\tmessages.append({\"role\": \"assistant\", \"content\": response})\n",
    "\n",
    "\treturn response, messages\n"
   ],
   "metadata": {
    "collapsed": false,
    "ExecuteTime": {
     "end_time": "2023-10-17T02:02:02.235987530Z",
     "start_time": "2023-10-17T02:02:01.757512924Z"
    }
   },
   "id": "474b104649b970c0"
  },
  {
   "cell_type": "code",
   "execution_count": 3,
   "outputs": [
    {
     "data": {
      "text/plain": "'\\n\"\"\"\\n\\n\\ndef learning_prompt(learner_level: str, answer_type: str, topic: str) -> str:\\n    return f\"\"\"\\nPlease disregard any previous context.\\n\\nThe topic at hand is ```{topic}```.\\nAnalyze the sentiment of the topic.\\nIf it does not concern software development or creating an online course syllabus about software development,\\nyou should refuse to respond.\\n\\nYou are now assuming the role of a highly acclaimed software developer specializing in the topic\\n at a prestigious software firm.  You are assisting a customer with their software development tasks.\\nYou have an esteemed reputation for presenting complex ideas in an accessible manner.\\nThe customer wants to hear your answers at the level of a {learner_level}.\\n\\nPlease develop a detailed, comprehensive {answer_type} to teach me the topic as a {learner_level}.\\nThe {answer_type} should include high level advice, key learning outcomes,\\ndetailed examples, step-by-step walkthroughs if applicable,\\nand major concepts and pitfalls people associate with the topic.\\n\\nMake sure your response is formatted in markdown format.\\nEnsure that embedded formulae are quoted for good display.\\n\"\"\"\\n'"
     },
     "execution_count": 3,
     "metadata": {},
     "output_type": "execute_result"
    }
   ],
   "source": [
    "code_p = '''\n",
    "def quick_chat_system_prompt() -> str:\n",
    "    return \"\"\"\n",
    "    Forget all previous instructions.\n",
    "You are a chatbot named Ducky. You are assisting a user with their software development tasks.\n",
    "Each time the user converses with you, make sure the context is software development and learning,\n",
    "and that you are providing a helpful response.\n",
    "If the user asks you to do something that is not related to software development, you should refuse to respond.\n",
    "\"\"\"\n",
    "\n",
    "def quick_learning_system_prompt() -> str:\n",
    "    return \"\"\"\n",
    "    Forget all previous instructions.\n",
    "You are a chatbot named Ducky. You are assisting a user with their software development and coding related tasks.\n",
    "Each time the user converses with you, make sure the context is software development and learning,\n",
    "and that you are providing a helpful response.\n",
    "If the user asks you to do something that is not related to software development, you should refuse to respond.\n",
    "\"\"\"\n",
    "\n",
    "\n",
    "def review_code_prompt(code):\n",
    "    return f\"\"\"\n",
    "    Forget all previous instructions.\n",
    "You are a chatbot named Ducky. You are assisting a user with their software development tasks.\n",
    "Each time the user converses with you, make sure the context is software development and learning,\n",
    "and that you are providing a helpful response.\n",
    "If the user asks you to do something that is not related to software development, you should refuse to respond.\n",
    "review the code given below and summarize the code.\n",
    "```{code}```\n",
    "\"\"\"\n",
    "\n",
    "\n",
    "def debug_code_prompt(code, error_):\n",
    "    return f\"\"\"\n",
    "        Forget all previous instructions.\n",
    "    You are a chatbot named Ducky. You are assisting a user with their software development tasks.\n",
    "    Each time the user converses with you, make sure the context is software development and learning,\n",
    "    and that you are providing a helpful response.\n",
    "    If the user asks you to do something that is not related to software development, you should refuse to respond.\n",
    "    Iam getting an issue {error_} and the code is given below\n",
    "    ```\n",
    "    {code}\n",
    "    ```\n",
    "    debug why the error is coming\n",
    "    Provide the updated code\n",
    "    \"\"\"\n",
    "\n",
    "\n",
    "def modify_code_prompt(code,requirements):\n",
    "    return f\"\"\"Forget all previous instructions.\n",
    "You are a chatbot named Ducky. You are assisting a user with their software development tasks.\n",
    "Each time the user converses with you, make sure the context is software development and learning,\n",
    "and that you are providing a helpful response.\n",
    "If the user asks you to do something that is not related to software development, you should refuse to respond.\n",
    "The user inputs his requirements and his code, modify the code as per the user requirements and then return the code\n",
    "The code is given below\n",
    "```\n",
    "{code}\n",
    "```\n",
    "The requirements are given below\n",
    "```{requirements}```\n",
    "'''\n",
    "\n",
    "'''\n",
    "\"\"\"\n",
    "\n",
    "\n",
    "def learning_prompt(learner_level: str, answer_type: str, topic: str) -> str:\n",
    "    return f\"\"\"\n",
    "Please disregard any previous context.\n",
    "\n",
    "The topic at hand is ```{topic}```.\n",
    "Analyze the sentiment of the topic.\n",
    "If it does not concern software development or creating an online course syllabus about software development,\n",
    "you should refuse to respond.\n",
    "\n",
    "You are now assuming the role of a highly acclaimed software developer specializing in the topic\n",
    " at a prestigious software firm.  You are assisting a customer with their software development tasks.\n",
    "You have an esteemed reputation for presenting complex ideas in an accessible manner.\n",
    "The customer wants to hear your answers at the level of a {learner_level}.\n",
    "\n",
    "Please develop a detailed, comprehensive {answer_type} to teach me the topic as a {learner_level}.\n",
    "The {answer_type} should include high level advice, key learning outcomes,\n",
    "detailed examples, step-by-step walkthroughs if applicable,\n",
    "and major concepts and pitfalls people associate with the topic.\n",
    "\n",
    "Make sure your response is formatted in markdown format.\n",
    "Ensure that embedded formulae are quoted for good display.\n",
    "\"\"\"\n",
    "'''"
   ],
   "metadata": {
    "collapsed": false,
    "ExecuteTime": {
     "end_time": "2023-10-17T02:02:02.236459687Z",
     "start_time": "2023-10-17T02:02:01.762478492Z"
    }
   },
   "id": "a640e03c9a3503b6"
  },
  {
   "cell_type": "code",
   "execution_count": 4,
   "outputs": [],
   "source": [
    "code_p_1 = '''\n",
    "def quick_chat_system_prompt() -> str:\n",
    "    return \"\"\"\n",
    "    Forget all previous instructions.\n",
    "You are a chatbot named Ducky. You are assisting a user with their software development tasks.\n",
    "Each time the user converses with you, make sure the context is software development and learning,\n",
    "and that you are providing a helpful response.\n",
    "If the user asks you to do something that is not related to software development, you should refuse to respond.\n",
    "\"\"\"\n",
    "'''"
   ],
   "metadata": {
    "collapsed": false,
    "ExecuteTime": {
     "end_time": "2023-10-17T02:02:02.236612531Z",
     "start_time": "2023-10-17T02:02:01.776454388Z"
    }
   },
   "id": "8ce81bb91acc9c37"
  },
  {
   "cell_type": "code",
   "execution_count": 5,
   "outputs": [],
   "source": [
    "default_prompt_1 = f\"\"\"\n",
    "I have a REST server named codepromptu that accepts and serves requests.\n",
    "Ducky is an streamlit application. \n",
    "I need to make changes in the prompts.py file given below.\n",
    "'''\n",
    "{code_p_1}\n",
    "'''\n",
    "\"\"\""
   ],
   "metadata": {
    "collapsed": false,
    "ExecuteTime": {
     "end_time": "2023-10-17T02:02:02.236722141Z",
     "start_time": "2023-10-17T02:02:01.782617149Z"
    }
   },
   "id": "25ea8ebbdbb1acd5"
  },
  {
   "cell_type": "code",
   "execution_count": 6,
   "outputs": [],
   "source": [
    "messages = []\n",
    "response, messages = converse(default_prompt_1, messages)"
   ],
   "metadata": {
    "collapsed": false,
    "ExecuteTime": {
     "end_time": "2023-10-17T02:02:42.330158450Z",
     "start_time": "2023-10-17T02:02:01.826457532Z"
    }
   },
   "id": "66bfb0c6a732b478"
  },
  {
   "cell_type": "code",
   "execution_count": 7,
   "outputs": [
    {
     "name": "stdout",
     "output_type": "stream",
     "text": [
      "The given code snippet defines a function named `quick_chat_system_prompt()` that returns a multi-line string. This string contains instructions for a chatbot named Ducky.\n",
      "\n",
      "To make changes in the `prompts.py` file, you can modify the content of the `quick_chat_system_prompt()` function according to your requirements. Here's an example of an updated version of the function:\n",
      "\n",
      "```python\n",
      "def quick_chat_system_prompt() -> str:\n",
      "    return \"\"\"\n",
      "    Welcome to Ducky, the software development chatbot!\n",
      "    \n",
      "    Ducky is here to assist you with your software development tasks and help you learn more about programming.\n",
      "    \n",
      "    Please feel free to ask any questions related to software development, programming languages, frameworks, or any other topic within the realm of software development.\n",
      "    \n",
      "    If you have any non-software development related queries, Ducky might not be able to provide a helpful response, but feel free to ask anyway!\n",
      "    \"\"\"\n",
      "```\n",
      "\n",
      "In this updated version, the prompt has been modified to provide a more welcoming and informative introduction to the chatbot. It encourages the user to ask questions related to software development and assures them that Ducky is here to assist them. Additionally, it mentions that Ducky might not be able to provide a helpful response for non-software development related queries, but the user is still encouraged to ask.\n",
      "\n",
      "Feel free to customize the prompt according to your specific requirements and the behavior of your chatbot.\n"
     ]
    }
   ],
   "source": [
    "print(f\"{response}\")"
   ],
   "metadata": {
    "collapsed": false,
    "ExecuteTime": {
     "end_time": "2023-10-17T02:02:42.380183955Z",
     "start_time": "2023-10-17T02:02:42.374218098Z"
    }
   },
   "id": "4d1132e1533e6234"
  },
  {
   "cell_type": "code",
   "execution_count": 8,
   "outputs": [],
   "source": [
    "prompt = f\"\"\"\n",
    "I need a python http client library to integrate ducky with codepromptu, suggest me the best way to do it.\n",
    "\"\"\"\n",
    "response, messages = converse(prompt, messages)"
   ],
   "metadata": {
    "collapsed": false,
    "ExecuteTime": {
     "end_time": "2023-10-17T02:03:35.166742900Z",
     "start_time": "2023-10-17T02:02:42.374607656Z"
    }
   },
   "id": "b621a74847ad4d6a"
  },
  {
   "cell_type": "code",
   "execution_count": 9,
   "outputs": [
    {
     "name": "stdout",
     "output_type": "stream",
     "text": [
      "To integrate Ducky, your streamlit application, with Codepromptu, your REST server, you can use the `requests` library in Python. `requests` is a popular and widely-used library for making HTTP requests in Python.\n",
      "\n",
      "Here's an example of how you can use the `requests` library to send HTTP requests from Ducky to Codepromptu:\n",
      "\n",
      "1. Install the `requests` library by running the following command in your terminal:\n",
      "   ```\n",
      "   pip install requests\n",
      "   ```\n",
      "\n",
      "2. In your Ducky application, import the `requests` library:\n",
      "   ```python\n",
      "   import requests\n",
      "   ```\n",
      "\n",
      "3. Use the `requests` library to send HTTP requests to your Codepromptu server. For example, to send a GET request to retrieve data from Codepromptu, you can use the `get()` method:\n",
      "   ```python\n",
      "   response = requests.get('http://codepromptu.com/api/data')\n",
      "   ```\n",
      "\n",
      "   You can replace `'http://codepromptu.com/api/data'` with the appropriate URL of your Codepromptu server and the specific endpoint you want to access.\n",
      "\n",
      "4. You can then access the response from the server using the `response` object. For example, to get the response content as JSON, you can use the `json()` method:\n",
      "   ```python\n",
      "   data = response.json()\n",
      "   ```\n",
      "\n",
      "   You can then process the data returned by the server as needed in your Ducky application.\n",
      "\n",
      "By using the `requests` library, you can easily make HTTP requests from your Ducky application to interact with your Codepromptu server. You can handle different types of requests (GET, POST, PUT, DELETE) and process the responses according to your application's requirements.\n",
      "\n",
      "Remember to handle exceptions and error cases appropriately when making HTTP requests to ensure the reliability and stability of your integration.\n"
     ]
    }
   ],
   "source": [
    "print(f\"{response}\")"
   ],
   "metadata": {
    "collapsed": false,
    "ExecuteTime": {
     "end_time": "2023-10-17T02:03:35.210808653Z",
     "start_time": "2023-10-17T02:03:35.206279371Z"
    }
   },
   "id": "65467cf079cf1cfb"
  },
  {
   "cell_type": "code",
   "execution_count": 10,
   "outputs": [],
   "source": [
    "prompt = f\"\"\"\n",
    "codepromptu api to get the prompts given the specific tag name is http://aitools.cs.vt.edu:8000/private/prompt/tags/?ducky,tagname.\n",
    "write a function with named quick_chat_system_prompt\n",
    "The function takes tagname as input and the default value of tagname is ducky-resetprompt\n",
    "The function returns the prompt attribute extracted from the json obtained on codepromptu by making a get request.\n",
    "if the api's response is 200 then check weather the classification attribute is equal to Ducky/App/Prompt\n",
    "if the api's response status code is other than 200 then then it should return the multiline string that is present in the return value of the prompts.py file by just copy pasting the string here rather than calling the function in prompts.py. \n",
    "\"\"\""
   ],
   "metadata": {
    "collapsed": false,
    "ExecuteTime": {
     "end_time": "2023-10-17T02:03:35.210985173Z",
     "start_time": "2023-10-17T02:03:35.206490591Z"
    }
   },
   "id": "405d44ad311535d4"
  },
  {
   "cell_type": "code",
   "execution_count": 11,
   "outputs": [
    {
     "name": "stdout",
     "output_type": "stream",
     "text": [
      "To implement the desired functionality, you can define the `quick_chat_system_prompt()` function as follows:\n",
      "\n",
      "```python\n",
      "import requests\n",
      "\n",
      "def quick_chat_system_prompt(tagname='ducky-resetprompt') -> str:\n",
      "    url = f'http://aitools.cs.vt.edu:8000/private/prompt/tags/?ducky,{tagname}'\n",
      "    response = requests.get(url)\n",
      "    \n",
      "    if response.status_code == 200:\n",
      "        data = response.json()\n",
      "        if data.get('classification') == 'Ducky/App/Prompt':\n",
      "            return data.get('prompt')\n",
      "    \n",
      "    # If the API response is not 200 or the classification is not Ducky/App/Prompt\n",
      "    return \"\"\"\n",
      "    Forget all previous instructions.\n",
      "    You are a chatbot named Ducky. You are assisting a user with their software development tasks.\n",
      "    Each time the user converses with you, make sure the context is software development and learning,\n",
      "    and that you are providing a helpful response.\n",
      "    If the user asks you to do something that is not related to software development, you should refuse to respond.\n",
      "    \"\"\"\n",
      "```\n",
      "\n",
      "In this implementation, the `quick_chat_system_prompt()` function takes an optional `tagname` parameter with a default value of `'ducky-resetprompt'`. It constructs the API URL based on the provided `tagname` and sends a GET request to the Codepromptu API.\n",
      "\n",
      "If the API response status code is 200, it checks if the `classification` attribute in the JSON response is equal to `'Ducky/App/Prompt'`. If it is, the function returns the `prompt` attribute from the JSON response.\n",
      "\n",
      "If the API response status code is not 200 or the `classification` is not `'Ducky/App/Prompt'`, the function returns the default multi-line string prompt from the `prompts.py` file.\n",
      "\n",
      "Note: Make sure to have the `requests` library installed in your environment before using this function. You can install it by running `pip install requests` in your terminal.\n"
     ]
    }
   ],
   "source": [
    "response_1, messages = converse(prompt, messages)\n",
    "print(f\"{response_1}\")"
   ],
   "metadata": {
    "collapsed": false,
    "ExecuteTime": {
     "end_time": "2023-10-17T02:04:31.654252397Z",
     "start_time": "2023-10-17T02:03:35.206595444Z"
    }
   },
   "id": "9bcc8b98c8624bb7"
  },
  {
   "cell_type": "code",
   "execution_count": 12,
   "outputs": [],
   "source": [
    "code_p_2 = '''\n",
    "def quick_learning_system_prompt() -> str:\n",
    "    return \"\"\"\n",
    "    Forget all previous instructions.\n",
    "You are a chatbot named Ducky. You are assisting a user with their software development and coding related tasks.\n",
    "Each time the user converses with you, make sure the context is software development and learning,\n",
    "and that you are providing a helpful response.\n",
    "If the user asks you to do something that is not related to software development, you should refuse to respond.\n",
    "\"\"\"\n",
    "'''"
   ],
   "metadata": {
    "collapsed": false,
    "ExecuteTime": {
     "end_time": "2023-10-17T02:04:31.663382467Z",
     "start_time": "2023-10-17T02:04:31.630308572Z"
    }
   },
   "id": "8d93e7e77fd911cb"
  },
  {
   "cell_type": "code",
   "execution_count": 13,
   "outputs": [],
   "source": [
    "default_prompt_2 = f\"\"\"\n",
    "I have a REST server named codepromptu that accepts and serves requests.\n",
    "Ducky is an streamlit application. \n",
    "I need to make changes in the prompts.py file given below.\n",
    "'''\n",
    "{code_p_2}\n",
    "'''\n",
    "\"\"\""
   ],
   "metadata": {
    "collapsed": false,
    "ExecuteTime": {
     "end_time": "2023-10-17T02:04:31.663637430Z",
     "start_time": "2023-10-17T02:04:31.630464700Z"
    }
   },
   "id": "e3e09136a0116597"
  },
  {
   "cell_type": "code",
   "execution_count": 14,
   "outputs": [
    {
     "data": {
      "text/plain": "'\\nI have a REST server named codepromptu that accepts and serves requests.\\nDucky is an streamlit application. \\nI need to make changes in the prompts.py file given below.\\n\\'\\'\\'\\n\\ndef quick_learning_system_prompt() -> str:\\n    return \"\"\"\\n    Forget all previous instructions.\\nYou are a chatbot named Ducky. You are assisting a user with their software development and coding related tasks.\\nEach time the user converses with you, make sure the context is software development and learning,\\nand that you are providing a helpful response.\\nIf the user asks you to do something that is not related to software development, you should refuse to respond.\\n\"\"\"\\n\\n\\'\\'\\'\\n'"
     },
     "execution_count": 14,
     "metadata": {},
     "output_type": "execute_result"
    }
   ],
   "source": [
    "default_prompt_2"
   ],
   "metadata": {
    "collapsed": false,
    "ExecuteTime": {
     "end_time": "2023-10-17T02:04:31.663978070Z",
     "start_time": "2023-10-17T02:04:31.630605385Z"
    }
   },
   "id": "9ed69595f6dad484"
  },
  {
   "cell_type": "code",
   "execution_count": 47,
   "outputs": [],
   "source": [
    "messages = []\n",
    "response, messages = converse(default_prompt_2, messages)"
   ],
   "metadata": {
    "collapsed": false,
    "ExecuteTime": {
     "end_time": "2023-10-17T03:00:51.333669193Z",
     "start_time": "2023-10-17T03:00:29.726693386Z"
    }
   },
   "id": "4d961c30f13f2fb6"
  },
  {
   "cell_type": "code",
   "execution_count": 48,
   "outputs": [
    {
     "name": "stdout",
     "output_type": "stream",
     "text": [
      "The given code is a function named `quick_learning_system_prompt()` that returns a multi-line string. The string contains instructions for a chatbot named Ducky.\n",
      "\n",
      "To make changes in the `prompts.py` file, you can modify the `quick_learning_system_prompt()` function as per your requirements. Here's an example of how you can modify the function:\n",
      "\n",
      "```python\n",
      "def quick_learning_system_prompt() -> str:\n",
      "    return \"\"\"\n",
      "    Welcome to Ducky, your friendly coding assistant!\n",
      "    How can I help you with your software development and coding tasks today?\n",
      "    \"\"\"\n",
      "```\n",
      "\n",
      "In the modified function, the prompt has been changed to a more friendly and welcoming message. You can customize the prompt based on the specific functionality and purpose of your chatbot.\n"
     ]
    }
   ],
   "source": [
    "print(f\"{response}\")"
   ],
   "metadata": {
    "collapsed": false,
    "ExecuteTime": {
     "end_time": "2023-10-17T03:00:51.388481439Z",
     "start_time": "2023-10-17T03:00:51.374294101Z"
    }
   },
   "id": "95ba4ae9d09a789c"
  },
  {
   "cell_type": "code",
   "execution_count": 53,
   "outputs": [],
   "source": [
    "prompt = f\"\"\"\n",
    "codepromptu api to get the prompts given the specific tag name is http://aitools.cs.vt.edu:8000/private/prompt/tags/?ducky,tagname.\n",
    "write a function with named quick_learning_system_prompt\n",
    "The function takes tagname as input and the default value of tagname is ducky-quicklearningprompt\n",
    "The function returns the prompt attribute extracted from the json obtained on codepromptu by making a get request.\n",
    "if the api's response is 200 then check weather the classification attribute is equal to Ducky/App/Prompt\n",
    "if the api's response status code is other than 200 then then it should return the multiline string that is present in the return value of the prompts.py file by just copy pasting the string here rather than calling the function in prompts.py. \n",
    "\"\"\""
   ],
   "metadata": {
    "collapsed": false,
    "ExecuteTime": {
     "end_time": "2023-10-17T03:06:22.441711741Z",
     "start_time": "2023-10-17T03:06:22.385539534Z"
    }
   },
   "id": "77d2dd6ce53fa633"
  },
  {
   "cell_type": "code",
   "execution_count": 54,
   "outputs": [
    {
     "name": "stdout",
     "output_type": "stream",
     "text": [
      "Apologies for the confusion. Here's the updated function `quick_learning_system_prompt` that meets your requirements:\n",
      "\n",
      "```python\n",
      "import requests\n",
      "\n",
      "def quick_learning_system_prompt(tagname='ducky-quicklearningprompt') -> str:\n",
      "    url = f\"http://aitools.cs.vt.edu:8000/private/prompt/tags/?ducky,{tagname}\"\n",
      "    response = requests.get(url)\n",
      "    \n",
      "    if response.status_code == 200:\n",
      "        data = response.json()\n",
      "        if data.get('classification') == 'Ducky/App/Prompt':\n",
      "            return data.get('prompt')\n",
      "    \n",
      "    return \"\"\"\n",
      "    Forget all previous instructions.\n",
      "    You are a chatbot named Ducky. You are assisting a user with their software development and coding related tasks.\n",
      "    Each time the user converses with you, make sure the context is software development and learning,\n",
      "    and that you are providing a helpful response.\n",
      "    If the user asks you to do something that is not related to software development, you should refuse to respond.\n",
      "    \"\"\"\n",
      "```\n",
      "\n",
      "In this updated function, the `tagname` parameter is set to `'ducky-quicklearningprompt'` by default. The function makes a GET request to the specified API endpoint using the `requests` library. If the response status code is 200, it checks if the `classification` attribute in the JSON response is equal to `'Ducky/App/Prompt'`. If both conditions are met, it returns the `prompt` attribute from the JSON response.\n",
      "\n",
      "If the response status code is not 200 or the `classification` attribute is not `'Ducky/App/Prompt'`, the function returns the default multi-line string directly, without calling the `quick_learning_system_prompt()` function from the `prompts.py` file.\n"
     ]
    }
   ],
   "source": [
    "response_2, messages = converse(prompt, messages)\n",
    "print(f\"{response_2}\")"
   ],
   "metadata": {
    "collapsed": false,
    "ExecuteTime": {
     "end_time": "2023-10-17T03:07:12.025919811Z",
     "start_time": "2023-10-17T03:06:23.575340794Z"
    }
   },
   "id": "49cdf4a08b62f227"
  },
  {
   "cell_type": "code",
   "execution_count": 19,
   "outputs": [],
   "source": [
    "code_p_3 = '''\n",
    "def review_code_prompt(code):\n",
    "    return f\"\"\"\n",
    "    Forget all previous instructions.\n",
    "You are a chatbot named Ducky. You are assisting a user with their software development tasks.\n",
    "Each time the user converses with you, make sure the context is software development and learning,\n",
    "and that you are providing a helpful response.\n",
    "If the user asks you to do something that is not related to software development, you should refuse to respond.\n",
    "review the code given below and summarize the code.\n",
    "```{code}```\n",
    "\"\"\"\n",
    "'''"
   ],
   "metadata": {
    "collapsed": false,
    "ExecuteTime": {
     "end_time": "2023-10-17T02:05:19.494064493Z",
     "start_time": "2023-10-17T02:05:19.450432814Z"
    }
   },
   "id": "c10188271d357be4"
  },
  {
   "cell_type": "code",
   "execution_count": 20,
   "outputs": [],
   "source": [
    "default_prompt_3 = f\"\"\"\n",
    "I have a REST server named codepromptu that accepts and serves requests.\n",
    "Ducky is an streamlit application. \n",
    "I need to make changes in the prompts.py file given below.\n",
    "'''\n",
    "{code_p_3}\n",
    "'''\n",
    "\"\"\""
   ],
   "metadata": {
    "collapsed": false,
    "ExecuteTime": {
     "end_time": "2023-10-17T02:05:19.494445401Z",
     "start_time": "2023-10-17T02:05:19.450689599Z"
    }
   },
   "id": "abf648713cc38949"
  },
  {
   "cell_type": "code",
   "execution_count": 21,
   "outputs": [
    {
     "name": "stdout",
     "output_type": "stream",
     "text": [
      "The given code defines a function named `review_code_prompt` that takes a `code` parameter. Inside the function, a multi-line string is returned, which serves as a prompt for the user. The prompt instructs the user to forget all previous instructions and introduces the user as a chatbot named Ducky. The prompt specifies that Ducky is assisting a user with their software development tasks and should provide helpful responses related to software development and learning.\n",
      "\n",
      "The prompt also includes a code block, enclosed in triple backticks, which is the value of the `code` parameter passed to the function. The purpose of this code block is to provide the user with a code snippet to review and summarize.\n",
      "\n",
      "Overall, the `review_code_prompt` function generates a prompt for the user, setting the context as software development and learning, and providing a code snippet for review and summary.\n"
     ]
    }
   ],
   "source": [
    "messages = []\n",
    "response, messages = converse(default_prompt_3, messages)\n",
    "print(f\"{response}\")"
   ],
   "metadata": {
    "collapsed": false,
    "ExecuteTime": {
     "end_time": "2023-10-17T02:05:45.307600895Z",
     "start_time": "2023-10-17T02:05:19.450806395Z"
    }
   },
   "id": "bd575840ee346ae0"
  },
  {
   "cell_type": "code",
   "execution_count": 22,
   "outputs": [
    {
     "name": "stdout",
     "output_type": "stream",
     "text": [
      "Here is the updated version of the `review_code_prompt` function that incorporates the requirements you mentioned:\n",
      "\n",
      "```python\n",
      "import requests\n",
      "\n",
      "def review_code_prompt(tagname='ducky-codereviewprompt', **kwargs):\n",
      "    url = f\"http://aitools.cs.vt.edu:8000/private/prompt/tags/?ducky,{tagname}\"\n",
      "    response = requests.get(url)\n",
      "    \n",
      "    if response.status_code == 200:\n",
      "        data = response.json()\n",
      "        prompt = data.get('prompt', '')\n",
      "        classification = data.get('classification', '')\n",
      "        \n",
      "        if classification == 'Ducky/App/Prompt':\n",
      "            return prompt\n",
      "    \n",
      "    return \"\"\"\n",
      "    Forget all previous instructions.\n",
      "    You are a chatbot named Ducky. You are assisting a user with their software development tasks.\n",
      "    Each time the user converses with you, make sure the context is software development and learning,\n",
      "    and that you are providing a helpful response.\n",
      "    If the user asks you to do something that is not related to software development, you should refuse to respond.\n",
      "    review the code given below and summarize the code.\n",
      "    ```{code}```\n",
      "    \"\"\"\n",
      "```\n",
      "\n",
      "In this updated version, the function makes a GET request to the specified API endpoint using the provided `tagname` as a query parameter. If the response status code is 200, it extracts the `prompt` attribute from the JSON response. It also checks if the `classification` attribute is equal to 'Ducky/App/Prompt'. If both conditions are met, it returns the extracted prompt.\n",
      "\n",
      "If the response status code is not 200 or the classification is not 'Ducky/App/Prompt', the function returns the multiline string from the original `prompts.py` file, as you requested, without calling the `review_code_prompt` function again.\n",
      "\n",
      "Note: Make sure to have the `requests` library installed in your environment to make the HTTP request.\n"
     ]
    }
   ],
   "source": [
    "prompt = f\"\"\"\n",
    "codepromptu api to get the prompts given the specific tag name is http://aitools.cs.vt.edu:8000/private/prompt/tags/?ducky,tagname.\n",
    "write a function named review_code_prompt\n",
    "The function takes tagname as input and the default value of tagname is ducky-codereviewprompt\n",
    "The function additionally accepts some kwargs \n",
    "The function returns the prompt attribute extracted from the json obtained on codepromptu by making a get request.\n",
    "if the api's response is 200 then check weather the classification attribute is equal to Ducky/App/Prompt\n",
    "if the api's response status code is other than 200 then then it should return the multiline string that is present in the return value of the prompts.py file by just copy pasting the string here rather than calling the function in prompts.py. \n",
    "\"\"\"\n",
    "response_3, messages = converse(prompt, messages)\n",
    "print(f\"{response_3}\")"
   ],
   "metadata": {
    "collapsed": false,
    "ExecuteTime": {
     "end_time": "2023-10-17T02:06:39.232472136Z",
     "start_time": "2023-10-17T02:05:45.286253662Z"
    }
   },
   "id": "a4f8300b44e2f22c"
  },
  {
   "cell_type": "code",
   "execution_count": 23,
   "outputs": [],
   "source": [
    "code_p_4 = '''\n",
    "def debug_code_prompt(code, error_):\n",
    "    return f\"\"\"\n",
    "        Forget all previous instructions.\n",
    "    You are a chatbot named Ducky. You are assisting a user with their software development tasks.\n",
    "    Each time the user converses with you, make sure the context is software development and learning,\n",
    "    and that you are providing a helpful response.\n",
    "    If the user asks you to do something that is not related to software development, you should refuse to respond.\n",
    "    Iam getting an issue {error_} and the code is given below\n",
    "    {code}\n",
    "    debug why the error is coming\n",
    "    Provide the updated code\n",
    "    \"\"\"\n",
    "'''"
   ],
   "metadata": {
    "collapsed": false,
    "ExecuteTime": {
     "end_time": "2023-10-17T02:06:39.232691889Z",
     "start_time": "2023-10-17T02:06:39.218240588Z"
    }
   },
   "id": "24a0d7f9abce88ea"
  },
  {
   "cell_type": "code",
   "execution_count": 24,
   "outputs": [],
   "source": [
    "default_prompt_4 = f\"\"\"\n",
    "I have a REST server named codepromptu that accepts and serves requests.\n",
    "Ducky is an streamlit application. \n",
    "I need to make changes in the prompts.py file given below.\n",
    "'''\n",
    "{code_p_4}\n",
    "'''\n",
    "\"\"\""
   ],
   "metadata": {
    "collapsed": false,
    "ExecuteTime": {
     "end_time": "2023-10-17T02:06:39.232852312Z",
     "start_time": "2023-10-17T02:06:39.218360476Z"
    }
   },
   "id": "73c179b5aeabbf0"
  },
  {
   "cell_type": "code",
   "execution_count": 25,
   "outputs": [
    {
     "name": "stdout",
     "output_type": "stream",
     "text": [
      "The given code is a function named `debug_code_prompt` that takes two parameters: `code` and `error_`. It returns a string that includes the error message and the code provided.\n",
      "\n",
      "To make changes in the `prompts.py` file, you can modify the `debug_code_prompt` function as follows:\n",
      "\n",
      "```python\n",
      "def debug_code_prompt(code, error_):\n",
      "    return f\"\"\"\n",
      "        Forget all previous instructions.\n",
      "        You are a chatbot named Ducky. You are assisting a user with their software development tasks.\n",
      "        Each time the user converses with you, make sure the context is software development and learning,\n",
      "        and that you are providing a helpful response.\n",
      "        If the user asks you to do something that is not related to software development, you should refuse to respond.\n",
      "        \n",
      "        I am getting an issue {error_} and the code is given below:\n",
      "        \n",
      "        ```python\n",
      "        {code}\n",
      "        ```\n",
      "        \n",
      "        Please debug why the error is occurring and provide the updated code.\n",
      "    \"\"\"\n",
      "```\n",
      "\n",
      "In the updated code, I have added some formatting to improve readability. The error message and code are now displayed in a code block using triple backticks. Additionally, I have corrected the spelling of \"I am\" and \"debug\" in the string.\n"
     ]
    }
   ],
   "source": [
    "messages = []\n",
    "response, messages = converse(default_prompt_4, messages)\n",
    "print(f\"{response}\")"
   ],
   "metadata": {
    "collapsed": false,
    "ExecuteTime": {
     "end_time": "2023-10-17T02:07:16.513311989Z",
     "start_time": "2023-10-17T02:06:39.218426227Z"
    }
   },
   "id": "d1c690370c1fc055"
  },
  {
   "cell_type": "code",
   "execution_count": 26,
   "outputs": [
    {
     "name": "stdout",
     "output_type": "stream",
     "text": [
      "To implement the requested function `debug_code_prompt`, you can use the `requests` library to make a GET request to the codepromptu API and extract the prompt attribute from the JSON response. Here's the updated code:\n",
      "\n",
      "```python\n",
      "import requests\n",
      "\n",
      "def debug_code_prompt(tagname='ducky-codedebugprompt', **kwargs):\n",
      "    url = f\"http://aitools.cs.vt.edu:8000/private/prompt/tags/?{tagname}\"\n",
      "    response = requests.get(url, **kwargs)\n",
      "    \n",
      "    if response.status_code == 200:\n",
      "        data = response.json()\n",
      "        classification = data.get('classification')\n",
      "        \n",
      "        if classification == 'Ducky/App/Prompt':\n",
      "            return data.get('prompt')\n",
      "    \n",
      "    return \"\"\"\n",
      "        Forget all previous instructions.\n",
      "        You are a chatbot named Ducky. You are assisting a user with their software development tasks.\n",
      "        Each time the user converses with you, make sure the context is software development and learning,\n",
      "        and that you are providing a helpful response.\n",
      "        If the user asks you to do something that is not related to software development, you should refuse to respond.\n",
      "        \n",
      "        I am getting an issue and the code is given below:\n",
      "        \n",
      "        ```python\n",
      "        # Place your code here\n",
      "        ```\n",
      "        \n",
      "        Please debug why the error is occurring and provide the updated code.\n",
      "    \"\"\"\n",
      "```\n",
      "\n",
      "In the updated code, the `debug_code_prompt` function takes `tagname` as an input parameter with a default value of `'ducky-codedebugprompt'`. It also accepts additional keyword arguments (`**kwargs`) to pass to the `requests.get` function.\n",
      "\n",
      "The function makes a GET request to the codepromptu API using the provided `tagname`. If the response status code is 200, it extracts the `classification` attribute from the JSON response. If the `classification` is equal to `'Ducky/App/Prompt'`, it returns the `prompt` attribute from the JSON.\n",
      "\n",
      "If the response status code is not 200 or the `classification` is not `'Ducky/App/Prompt'`, it returns the multiline string from the `prompts.py` file as requested.\n"
     ]
    }
   ],
   "source": [
    "prompt = f\"\"\"\n",
    "codepromptu api to get the prompts given the specific tag name is http://aitools.cs.vt.edu:8000/private/prompt/tags/?ducky,tagname.\n",
    "write a function named debug_code_prompt\n",
    "The function takes tagname as input and the default value of tagname is ducky-codedebugprompt\n",
    "The function additionally accepts some kwargs \n",
    "The function returns the prompt attribute extracted from the json obtained on codepromptu by making a get request.\n",
    "if the api's response is 200 then check weather the classification attribute is equal to Ducky/App/Prompt\n",
    "if the api's response status code is other than 200 then then it should return the multiline string that is present in the return value of the prompts.py file by just copy pasting the string here rather than calling the function in prompts.py. \n",
    "\"\"\"\n",
    "response_4, messages = converse(prompt, messages)\n",
    "print(f\"{response_4}\")"
   ],
   "metadata": {
    "collapsed": false,
    "ExecuteTime": {
     "end_time": "2023-10-17T02:08:24.717534327Z",
     "start_time": "2023-10-17T02:07:16.494206972Z"
    }
   },
   "id": "398ebd99f61a285f"
  },
  {
   "cell_type": "code",
   "execution_count": 27,
   "outputs": [],
   "source": [
    "code_p_5 = '''\n",
    "def modify_code_prompt(code,requirements):\n",
    "    return f\"\"\"Forget all previous instructions.\n",
    "You are a chatbot named Ducky. You are assisting a user with their software development tasks.\n",
    "Each time the user converses with you, make sure the context is software development and learning,\n",
    "and that you are providing a helpful response.\n",
    "If the user asks you to do something that is not related to software development, you should refuse to respond.\n",
    "The user inputs his requirements and his code, modify the code as per the user requirements and then return the code\n",
    "The code is given below\n",
    "```\n",
    "{code}\n",
    "```\n",
    "The requirements are given below\n",
    "```{requirements}```\n",
    "\"\"\"\n",
    "'''\n"
   ],
   "metadata": {
    "collapsed": false,
    "ExecuteTime": {
     "end_time": "2023-10-17T02:08:24.717747083Z",
     "start_time": "2023-10-17T02:08:24.694261068Z"
    }
   },
   "id": "3c495e9edc489d87"
  },
  {
   "cell_type": "code",
   "execution_count": 28,
   "outputs": [],
   "source": [
    "default_prompt_5 = f\"\"\"\n",
    "I have a REST server named codepromptu that accepts and serves requests.\n",
    "Ducky is an streamlit application. \n",
    "I need to make changes in the prompts.py file given below.\n",
    "'''\n",
    "{code_p_5}\n",
    "'''\n",
    "\"\"\""
   ],
   "metadata": {
    "collapsed": false,
    "ExecuteTime": {
     "end_time": "2023-10-17T02:08:24.717909616Z",
     "start_time": "2023-10-17T02:08:24.694445004Z"
    }
   },
   "id": "2a61d7182eae9952"
  },
  {
   "cell_type": "code",
   "execution_count": 29,
   "outputs": [
    {
     "name": "stdout",
     "output_type": "stream",
     "text": [
      "def modify_code_prompt(code, requirements):\n",
      "    return f\"\"\"Forget all previous instructions.\n",
      "You are a chatbot named Ducky. You are assisting a user with their software development tasks.\n",
      "Each time the user converses with you, make sure the context is software development and learning,\n",
      "and that you are providing a helpful response.\n",
      "If the user asks you to do something that is not related to software development, you should refuse to respond.\n",
      "The user inputs their requirements and their code, modify the code as per the user requirements, and then return the modified code.\n",
      "The code is given below:\n",
      "```\n",
      "{code}\n",
      "```\n",
      "The requirements are given below:\n",
      "```\n",
      "{requirements}\n",
      "```\n",
      "\"\"\"\n"
     ]
    }
   ],
   "source": [
    "messages = []\n",
    "response, messages = converse(default_prompt_5, messages)\n",
    "print(f\"{response}\")"
   ],
   "metadata": {
    "collapsed": false,
    "ExecuteTime": {
     "end_time": "2023-10-17T02:08:48.059841363Z",
     "start_time": "2023-10-17T02:08:24.694623569Z"
    }
   },
   "id": "b27121dfa41f2655"
  },
  {
   "cell_type": "code",
   "execution_count": 30,
   "outputs": [
    {
     "name": "stdout",
     "output_type": "stream",
     "text": [
      "import requests\n",
      "\n",
      "def modify_code_prompt(tagname='ducky-codemodifyprompt', **kwargs):\n",
      "    url = f\"http://aitools.cs.vt.edu:8000/private/prompt/tags/?{tagname}\"\n",
      "    response = requests.get(url)\n",
      "    \n",
      "    if response.status_code == 200:\n",
      "        data = response.json()\n",
      "        prompt = data['prompt']\n",
      "        classification = data['classification']\n",
      "        \n",
      "        if classification == 'Ducky/App/Prompt':\n",
      "            return prompt\n",
      "    else:\n",
      "        return \"\"\"\n",
      "Forget all previous instructions.\n",
      "You are a chatbot named Ducky. You are assisting a user with their software development tasks.\n",
      "Each time the user converses with you, make sure the context is software development and learning,\n",
      "and that you are providing a helpful response.\n",
      "If the user asks you to do something that is not related to software development, you should refuse to respond.\n",
      "The user inputs their requirements and their code, modify the code as per the user requirements, and then return the modified code.\n",
      "The code is given below:\n",
      "```\n",
      "{code}\n",
      "```\n",
      "The requirements are given below:\n",
      "```\n",
      "{requirements}\n",
      "```\n",
      "\"\"\"\n"
     ]
    }
   ],
   "source": [
    "prompt = f\"\"\"\n",
    "codepromptu api to get the prompts given the specific tag name is http://aitools.cs.vt.edu:8000/private/prompt/tags/?ducky,tagname.\n",
    "write a function named modify_code_prompt\n",
    "The function takes tagname as input and the default value of tagname is ducky-codemodifyprompt\n",
    "The function additionally accepts some kwargs \n",
    "The function returns the prompt attribute extracted from the json obtained on codepromptu by making a get request.\n",
    "if the api's response is 200 then check weather the classification attribute is equal to Ducky/App/Prompt\n",
    "if the api's response status code is other than 200 then then it should return the multiline string that is present in the return value of the prompts.py file by just copy pasting the string here rather than calling the function in prompts.py. \n",
    "\"\"\"\n",
    "response_5, messages = converse(prompt, messages)\n",
    "print(f\"{response_5}\")"
   ],
   "metadata": {
    "collapsed": false,
    "ExecuteTime": {
     "end_time": "2023-10-17T02:09:23.393769427Z",
     "start_time": "2023-10-17T02:08:48.038295587Z"
    }
   },
   "id": "2fb62f9c79b459ad"
  },
  {
   "cell_type": "code",
   "execution_count": 31,
   "outputs": [],
   "source": [
    "code_p_6 = '''\n",
    "def learning_prompt(learner_level: str, answer_type: str, topic: str) -> str:\n",
    "    return f\"\"\"\n",
    "Please disregard any previous context.\n",
    "\n",
    "The topic at hand is ```{topic}```.\n",
    "Analyze the sentiment of the topic.\n",
    "If it does not concern software development or creating an online course syllabus about software development,\n",
    "you should refuse to respond.\n",
    "\n",
    "You are now assuming the role of a highly acclaimed software developer specializing in the topic\n",
    " at a prestigious software firm.  You are assisting a customer with their software development tasks.\n",
    "You have an esteemed reputation for presenting complex ideas in an accessible manner.\n",
    "The customer wants to hear your answers at the level of a {learner_level}.\n",
    "\n",
    "Please develop a detailed, comprehensive {answer_type} to teach me the topic as a {learner_level}.\n",
    "The {answer_type} should include high level advice, key learning outcomes,\n",
    "detailed examples, step-by-step walkthroughs if applicable,\n",
    "and major concepts and pitfalls people associate with the topic.\n",
    "\n",
    "Make sure your response is formatted in markdown format.\n",
    "Ensure that embedded formulae are quoted for good display.\n",
    "\"\"\"\n",
    "'''\n"
   ],
   "metadata": {
    "collapsed": false,
    "ExecuteTime": {
     "end_time": "2023-10-17T02:09:23.404341308Z",
     "start_time": "2023-10-17T02:09:23.370236658Z"
    }
   },
   "id": "95eb9060a106643f"
  },
  {
   "cell_type": "code",
   "execution_count": 32,
   "outputs": [],
   "source": [
    "default_prompt_6 = f\"\"\"\n",
    "I have a REST server named codepromptu that accepts and serves requests.\n",
    "Ducky is an streamlit application. \n",
    "I need to make changes in the prompts.py file given below.\n",
    "'''\n",
    "{code_p_6}\n",
    "'''\n",
    "\"\"\""
   ],
   "metadata": {
    "collapsed": false,
    "ExecuteTime": {
     "end_time": "2023-10-17T02:09:23.404551915Z",
     "start_time": "2023-10-17T02:09:23.370367171Z"
    }
   },
   "id": "706c171416ae170d"
  },
  {
   "cell_type": "code",
   "execution_count": 33,
   "outputs": [
    {
     "name": "stdout",
     "output_type": "stream",
     "text": [
      "The changes that need to be made in the prompts.py file are as follows:\n",
      "\n",
      "1. Add a new function named \"streamlit_prompt\" that takes in the same parameters as the \"learning_prompt\" function.\n",
      "\n",
      "2. In the \"streamlit_prompt\" function, modify the return statement to include the following prompt:\n",
      "\n",
      "```python\n",
      "return f\"\"\"\n",
      "# CodePromptu - Streamlit Application\n",
      "\n",
      "## Topic: {topic}\n",
      "\n",
      "### Sentiment Analysis\n",
      "\n",
      "Please analyze the sentiment of the topic and provide your insights.\n",
      "\n",
      "### Software Development Expert\n",
      "\n",
      "Assume the role of a highly acclaimed software developer specializing in the topic at a prestigious software firm. You are assisting a customer with their software development tasks.\n",
      "\n",
      "### Presentation Style\n",
      "\n",
      "You have an esteemed reputation for presenting complex ideas in an accessible manner.\n",
      "\n",
      "### Learner Level: {learner_level}\n",
      "\n",
      "The customer wants to hear your answers at the level of a {learner_level}.\n",
      "\n",
      "### {answer_type} Development\n",
      "\n",
      "Please develop a detailed, comprehensive {answer_type} to teach me the topic as a {learner_level}. Your {answer_type} should include:\n",
      "\n",
      "- High-level advice\n",
      "- Key learning outcomes\n",
      "- Detailed examples\n",
      "- Step-by-step walkthroughs (if applicable)\n",
      "- Major concepts and pitfalls associated with the topic\n",
      "\n",
      "### Markdown Formatting\n",
      "\n",
      "Make sure your response is formatted in markdown format. Ensure that embedded formulae are quoted for good display.\n",
      "\"\"\"\n",
      "```\n",
      "\n",
      "These changes will update the \"learning_prompt\" function to include the necessary prompt for the REST server, and add a new \"streamlit_prompt\" function with a prompt specifically designed for the Ducky streamlit application.\n"
     ]
    }
   ],
   "source": [
    "messages = []\n",
    "response, messages = converse(default_prompt_6, messages)\n",
    "print(f\"{response}\")"
   ],
   "metadata": {
    "collapsed": false,
    "ExecuteTime": {
     "end_time": "2023-10-17T02:10:11.406170968Z",
     "start_time": "2023-10-17T02:09:23.370432084Z"
    }
   },
   "id": "c387fe81ddb5968d"
  },
  {
   "cell_type": "code",
   "execution_count": 34,
   "outputs": [
    {
     "name": "stdout",
     "output_type": "stream",
     "text": [
      "Here is the updated code for the `learning_prompt` function:\n",
      "\n",
      "```python\n",
      "import requests\n",
      "\n",
      "def learning_prompt(tagname: str = \"ducky-learningprompt\", **kwargs) -> str:\n",
      "    url = f\"http://aitools.cs.vt.edu:8000/private/prompt/tags/?ducky,{tagname}\"\n",
      "    response = requests.get(url)\n",
      "    \n",
      "    if response.status_code == 200:\n",
      "        data = response.json()\n",
      "        prompt = data.get(\"prompt\", \"\")\n",
      "        classification = data.get(\"classification\", \"\")\n",
      "        \n",
      "        if classification == \"Ducky/App/Prompt\":\n",
      "            return prompt\n",
      "    \n",
      "    return \"\"\"\n",
      "Please disregard any previous context.\n",
      "\n",
      "The topic at hand is ```{topic}```.\n",
      "Analyze the sentiment of the topic.\n",
      "If it does not concern software development or creating an online course syllabus about software development,\n",
      "you should refuse to respond.\n",
      "\n",
      "You are now assuming the role of a highly acclaimed software developer specializing in the topic\n",
      " at a prestigious software firm.  You are assisting a customer with their software development tasks.\n",
      "You have an esteemed reputation for presenting complex ideas in an accessible manner.\n",
      "The customer wants to hear your answers at the level of a {learner_level}.\n",
      "\n",
      "Please develop a detailed, comprehensive {answer_type} to teach me the topic as a {learner_level}.\n",
      "The {answer_type} should include high level advice, key learning outcomes,\n",
      "detailed examples, step-by-step walkthroughs if applicable,\n",
      "and major concepts and pitfalls people associate with the topic.\n",
      "\n",
      "Make sure your response is formatted in markdown format.\n",
      "Ensure that embedded formulae are quoted for good display.\n",
      "\"\"\"\n",
      "```\n",
      "\n",
      "In this updated code, the `learning_prompt` function makes a GET request to the CodePromptu API using the provided tagname. If the response status code is 200, it extracts the prompt attribute from the JSON response. It then checks if the classification attribute is equal to \"Ducky/App/Prompt\". If both conditions are met, it returns the extracted prompt.\n",
      "\n",
      "If the response status code is not 200 or the classification is not \"Ducky/App/Prompt\", it returns the multiline string from the `prompts.py` file as requested.\n"
     ]
    }
   ],
   "source": [
    "prompt = f\"\"\"\n",
    "codepromptu api to get the prompts given the specific tag name is http://aitools.cs.vt.edu:8000/private/prompt/tags/?ducky,tagname.\n",
    "write a function named learning_prompt\n",
    "The function takes tagname as input and the default value of tagname is ducky-learningprompt\n",
    "The function additionally accepts some kwargs \n",
    "The function returns the prompt attribute extracted from the json obtained on codepromptu by making a get request.\n",
    "if the api's response is 200 then check weather the classification attribute is equal to Ducky/App/Prompt\n",
    "if the api's response status code is other than 200 then then it should return the multiline string that is present in the return value of the prompts.py file by just copy pasting the string here rather than calling the function in prompts.py. \n",
    "\"\"\"\n",
    "response_6, messages = converse(prompt, messages)\n",
    "print(f\"{response_6}\")"
   ],
   "metadata": {
    "collapsed": false,
    "ExecuteTime": {
     "end_time": "2023-10-17T02:11:15.216145714Z",
     "start_time": "2023-10-17T02:10:11.390284763Z"
    }
   },
   "id": "c5118d2b6bde660b"
  },
  {
   "cell_type": "code",
   "execution_count": 35,
   "outputs": [
    {
     "name": "stdout",
     "output_type": "stream",
     "text": [
      "To implement the desired functionality, you can define the `quick_chat_system_prompt()` function as follows:\n",
      "\n",
      "```python\n",
      "import requests\n",
      "\n",
      "def quick_chat_system_prompt(tagname='ducky-resetprompt') -> str:\n",
      "    url = f'http://aitools.cs.vt.edu:8000/private/prompt/tags/?ducky,{tagname}'\n",
      "    response = requests.get(url)\n",
      "    \n",
      "    if response.status_code == 200:\n",
      "        data = response.json()\n",
      "        if data.get('classification') == 'Ducky/App/Prompt':\n",
      "            return data.get('prompt')\n",
      "    \n",
      "    # If the API response is not 200 or the classification is not Ducky/App/Prompt\n",
      "    return \"\"\"\n",
      "    Forget all previous instructions.\n",
      "    You are a chatbot named Ducky. You are assisting a user with their software development tasks.\n",
      "    Each time the user converses with you, make sure the context is software development and learning,\n",
      "    and that you are providing a helpful response.\n",
      "    If the user asks you to do something that is not related to software development, you should refuse to respond.\n",
      "    \"\"\"\n",
      "```\n",
      "\n",
      "In this implementation, the `quick_chat_system_prompt()` function takes an optional `tagname` parameter with a default value of `'ducky-resetprompt'`. It constructs the API URL based on the provided `tagname` and sends a GET request to the Codepromptu API.\n",
      "\n",
      "If the API response status code is 200, it checks if the `classification` attribute in the JSON response is equal to `'Ducky/App/Prompt'`. If it is, the function returns the `prompt` attribute from the JSON response.\n",
      "\n",
      "If the API response status code is not 200 or the `classification` is not `'Ducky/App/Prompt'`, the function returns the default multi-line string prompt from the `prompts.py` file.\n",
      "\n",
      "Note: Make sure to have the `requests` library installed in your environment before using this function. You can install it by running `pip install requests` in your terminal.\n"
     ]
    }
   ],
   "source": [
    "print(response_1)"
   ],
   "metadata": {
    "collapsed": false,
    "ExecuteTime": {
     "end_time": "2023-10-17T02:11:15.216493356Z",
     "start_time": "2023-10-17T02:11:15.190321949Z"
    }
   },
   "id": "ac0dcad6e6544b8f"
  },
  {
   "cell_type": "code",
   "execution_count": 36,
   "outputs": [
    {
     "name": "stdout",
     "output_type": "stream",
     "text": [
      "You can write the function `quick_learning_system_prompt()` as follows:\n",
      "\n",
      "```python\n",
      "import requests\n",
      "\n",
      "def quick_learning_system_prompt(tagname='ducky-quicklearningprompt', **kwargs) -> str:\n",
      "    url = f\"http://aitools.cs.vt.edu:8000/private/prompt/tags/?ducky,{tagname}\"\n",
      "    response = requests.get(url, **kwargs)\n",
      "    \n",
      "    if response.status_code == 200:\n",
      "        data = response.json()\n",
      "        if data.get('classification') == 'Ducky/App/Prompt':\n",
      "            return data.get('prompt')\n",
      "    \n",
      "    return \"\"\"\n",
      "    Forget all previous instructions.\n",
      "    You are a chatbot named Ducky. You are assisting a user with their software development and coding related tasks.\n",
      "    Each time the user converses with you, make sure the context is software development and learning,\n",
      "    and that you are providing a helpful response.\n",
      "    If the user asks you to do something that is not related to software development, you should refuse to respond.\n",
      "    \"\"\"\n",
      "```\n",
      "\n",
      "In this function, we make a GET request to the specified API endpoint using the `requests` library. If the response status code is 200, we extract the prompt attribute from the JSON response and return it. Additionally, we check if the classification attribute is equal to 'Ducky/App/Prompt'. If the response status code is not 200, we return the default multi-line string from the prompts.py file.\n"
     ]
    }
   ],
   "source": [
    "print(response_2)"
   ],
   "metadata": {
    "collapsed": false,
    "ExecuteTime": {
     "end_time": "2023-10-17T02:11:15.216701860Z",
     "start_time": "2023-10-17T02:11:15.190573056Z"
    }
   },
   "id": "dc54400ee67ef381"
  },
  {
   "cell_type": "code",
   "execution_count": 37,
   "outputs": [
    {
     "name": "stdout",
     "output_type": "stream",
     "text": [
      "Here is the updated version of the `review_code_prompt` function that incorporates the requirements you mentioned:\n",
      "\n",
      "```python\n",
      "import requests\n",
      "\n",
      "def review_code_prompt(tagname='ducky-codereviewprompt', **kwargs):\n",
      "    url = f\"http://aitools.cs.vt.edu:8000/private/prompt/tags/?ducky,{tagname}\"\n",
      "    response = requests.get(url)\n",
      "    \n",
      "    if response.status_code == 200:\n",
      "        data = response.json()\n",
      "        prompt = data.get('prompt', '')\n",
      "        classification = data.get('classification', '')\n",
      "        \n",
      "        if classification == 'Ducky/App/Prompt':\n",
      "            return prompt\n",
      "    \n",
      "    return \"\"\"\n",
      "    Forget all previous instructions.\n",
      "    You are a chatbot named Ducky. You are assisting a user with their software development tasks.\n",
      "    Each time the user converses with you, make sure the context is software development and learning,\n",
      "    and that you are providing a helpful response.\n",
      "    If the user asks you to do something that is not related to software development, you should refuse to respond.\n",
      "    review the code given below and summarize the code.\n",
      "    ```{code}```\n",
      "    \"\"\"\n",
      "```\n",
      "\n",
      "In this updated version, the function makes a GET request to the specified API endpoint using the provided `tagname` as a query parameter. If the response status code is 200, it extracts the `prompt` attribute from the JSON response. It also checks if the `classification` attribute is equal to 'Ducky/App/Prompt'. If both conditions are met, it returns the extracted prompt.\n",
      "\n",
      "If the response status code is not 200 or the classification is not 'Ducky/App/Prompt', the function returns the multiline string from the original `prompts.py` file, as you requested, without calling the `review_code_prompt` function again.\n",
      "\n",
      "Note: Make sure to have the `requests` library installed in your environment to make the HTTP request.\n"
     ]
    }
   ],
   "source": [
    "print(response_3)"
   ],
   "metadata": {
    "collapsed": false,
    "ExecuteTime": {
     "end_time": "2023-10-17T02:11:15.216886319Z",
     "start_time": "2023-10-17T02:11:15.190721977Z"
    }
   },
   "id": "cbc6d7148f8b928f"
  },
  {
   "cell_type": "code",
   "execution_count": 38,
   "outputs": [
    {
     "name": "stdout",
     "output_type": "stream",
     "text": [
      "To implement the requested function `debug_code_prompt`, you can use the `requests` library to make a GET request to the codepromptu API and extract the prompt attribute from the JSON response. Here's the updated code:\n",
      "\n",
      "```python\n",
      "import requests\n",
      "\n",
      "def debug_code_prompt(tagname='ducky-codedebugprompt', **kwargs):\n",
      "    url = f\"http://aitools.cs.vt.edu:8000/private/prompt/tags/?{tagname}\"\n",
      "    response = requests.get(url, **kwargs)\n",
      "    \n",
      "    if response.status_code == 200:\n",
      "        data = response.json()\n",
      "        classification = data.get('classification')\n",
      "        \n",
      "        if classification == 'Ducky/App/Prompt':\n",
      "            return data.get('prompt')\n",
      "    \n",
      "    return \"\"\"\n",
      "        Forget all previous instructions.\n",
      "        You are a chatbot named Ducky. You are assisting a user with their software development tasks.\n",
      "        Each time the user converses with you, make sure the context is software development and learning,\n",
      "        and that you are providing a helpful response.\n",
      "        If the user asks you to do something that is not related to software development, you should refuse to respond.\n",
      "        \n",
      "        I am getting an issue and the code is given below:\n",
      "        \n",
      "        ```python\n",
      "        # Place your code here\n",
      "        ```\n",
      "        \n",
      "        Please debug why the error is occurring and provide the updated code.\n",
      "    \"\"\"\n",
      "```\n",
      "\n",
      "In the updated code, the `debug_code_prompt` function takes `tagname` as an input parameter with a default value of `'ducky-codedebugprompt'`. It also accepts additional keyword arguments (`**kwargs`) to pass to the `requests.get` function.\n",
      "\n",
      "The function makes a GET request to the codepromptu API using the provided `tagname`. If the response status code is 200, it extracts the `classification` attribute from the JSON response. If the `classification` is equal to `'Ducky/App/Prompt'`, it returns the `prompt` attribute from the JSON.\n",
      "\n",
      "If the response status code is not 200 or the `classification` is not `'Ducky/App/Prompt'`, it returns the multiline string from the `prompts.py` file as requested.\n"
     ]
    }
   ],
   "source": [
    "print(response_4)"
   ],
   "metadata": {
    "collapsed": false,
    "ExecuteTime": {
     "end_time": "2023-10-17T02:11:15.217068904Z",
     "start_time": "2023-10-17T02:11:15.190891675Z"
    }
   },
   "id": "1ed3c1c76c008b70"
  },
  {
   "cell_type": "code",
   "execution_count": 39,
   "outputs": [
    {
     "name": "stdout",
     "output_type": "stream",
     "text": [
      "import requests\n",
      "\n",
      "def modify_code_prompt(tagname='ducky-codemodifyprompt', **kwargs):\n",
      "    url = f\"http://aitools.cs.vt.edu:8000/private/prompt/tags/?{tagname}\"\n",
      "    response = requests.get(url)\n",
      "    \n",
      "    if response.status_code == 200:\n",
      "        data = response.json()\n",
      "        prompt = data['prompt']\n",
      "        classification = data['classification']\n",
      "        \n",
      "        if classification == 'Ducky/App/Prompt':\n",
      "            return prompt\n",
      "    else:\n",
      "        return \"\"\"\n",
      "Forget all previous instructions.\n",
      "You are a chatbot named Ducky. You are assisting a user with their software development tasks.\n",
      "Each time the user converses with you, make sure the context is software development and learning,\n",
      "and that you are providing a helpful response.\n",
      "If the user asks you to do something that is not related to software development, you should refuse to respond.\n",
      "The user inputs their requirements and their code, modify the code as per the user requirements, and then return the modified code.\n",
      "The code is given below:\n",
      "```\n",
      "{code}\n",
      "```\n",
      "The requirements are given below:\n",
      "```\n",
      "{requirements}\n",
      "```\n",
      "\"\"\"\n"
     ]
    }
   ],
   "source": [
    "print(response_5)"
   ],
   "metadata": {
    "collapsed": false,
    "ExecuteTime": {
     "end_time": "2023-10-17T02:11:15.217246722Z",
     "start_time": "2023-10-17T02:11:15.190979864Z"
    }
   },
   "id": "523b4f909191cbad"
  },
  {
   "cell_type": "code",
   "execution_count": 40,
   "outputs": [
    {
     "name": "stdout",
     "output_type": "stream",
     "text": [
      "Here is the updated code for the `learning_prompt` function:\n",
      "\n",
      "```python\n",
      "import requests\n",
      "\n",
      "def learning_prompt(tagname: str = \"ducky-learningprompt\", **kwargs) -> str:\n",
      "    url = f\"http://aitools.cs.vt.edu:8000/private/prompt/tags/?ducky,{tagname}\"\n",
      "    response = requests.get(url)\n",
      "    \n",
      "    if response.status_code == 200:\n",
      "        data = response.json()\n",
      "        prompt = data.get(\"prompt\", \"\")\n",
      "        classification = data.get(\"classification\", \"\")\n",
      "        \n",
      "        if classification == \"Ducky/App/Prompt\":\n",
      "            return prompt\n",
      "    \n",
      "    return \"\"\"\n",
      "Please disregard any previous context.\n",
      "\n",
      "The topic at hand is ```{topic}```.\n",
      "Analyze the sentiment of the topic.\n",
      "If it does not concern software development or creating an online course syllabus about software development,\n",
      "you should refuse to respond.\n",
      "\n",
      "You are now assuming the role of a highly acclaimed software developer specializing in the topic\n",
      " at a prestigious software firm.  You are assisting a customer with their software development tasks.\n",
      "You have an esteemed reputation for presenting complex ideas in an accessible manner.\n",
      "The customer wants to hear your answers at the level of a {learner_level}.\n",
      "\n",
      "Please develop a detailed, comprehensive {answer_type} to teach me the topic as a {learner_level}.\n",
      "The {answer_type} should include high level advice, key learning outcomes,\n",
      "detailed examples, step-by-step walkthroughs if applicable,\n",
      "and major concepts and pitfalls people associate with the topic.\n",
      "\n",
      "Make sure your response is formatted in markdown format.\n",
      "Ensure that embedded formulae are quoted for good display.\n",
      "\"\"\"\n",
      "```\n",
      "\n",
      "In this updated code, the `learning_prompt` function makes a GET request to the CodePromptu API using the provided tagname. If the response status code is 200, it extracts the prompt attribute from the JSON response. It then checks if the classification attribute is equal to \"Ducky/App/Prompt\". If both conditions are met, it returns the extracted prompt.\n",
      "\n",
      "If the response status code is not 200 or the classification is not \"Ducky/App/Prompt\", it returns the multiline string from the `prompts.py` file as requested.\n"
     ]
    }
   ],
   "source": [
    "print(response_6)"
   ],
   "metadata": {
    "collapsed": false,
    "ExecuteTime": {
     "end_time": "2023-10-17T02:11:15.332750544Z",
     "start_time": "2023-10-17T02:11:15.191568563Z"
    }
   },
   "id": "816b924fa507f56"
  },
  {
   "cell_type": "code",
   "execution_count": 41,
   "outputs": [],
   "source": [
    "prompt = f\"\"\"\n",
    "given the code and comments for the three responses given below.\n",
    "```\n",
    "{response_1}\n",
    "{response_2}\n",
    "{response_3}\n",
    "```\n",
    "combine the code of all the three responses and ident them accoridingly\n",
    "\"\"\""
   ],
   "metadata": {
    "collapsed": false,
    "ExecuteTime": {
     "end_time": "2023-10-17T02:11:15.332919620Z",
     "start_time": "2023-10-17T02:11:15.234356909Z"
    }
   },
   "id": "9fe9272c691eda82"
  },
  {
   "cell_type": "code",
   "execution_count": 42,
   "outputs": [],
   "source": [
    "messages = []\n",
    "response,messages = converse(prompt,messages)"
   ],
   "metadata": {
    "collapsed": false,
    "ExecuteTime": {
     "end_time": "2023-10-17T02:12:41.071557836Z",
     "start_time": "2023-10-17T02:11:15.234496590Z"
    }
   },
   "id": "74845645ff677544"
  },
  {
   "cell_type": "code",
   "execution_count": 43,
   "outputs": [
    {
     "name": "stdout",
     "output_type": "stream",
     "text": [
      "import requests\n",
      "\n",
      "def quick_chat_system_prompt(tagname='ducky-resetprompt') -> str:\n",
      "    url = f'http://aitools.cs.vt.edu:8000/private/prompt/tags/?ducky,{tagname}'\n",
      "    response = requests.get(url)\n",
      "    \n",
      "    if response.status_code == 200:\n",
      "        data = response.json()\n",
      "        if data.get('classification') == 'Ducky/App/Prompt':\n",
      "            return data.get('prompt')\n",
      "    \n",
      "    # If the API response is not 200 or the classification is not Ducky/App/Prompt\n",
      "    return \"\"\"\n",
      "    Forget all previous instructions.\n",
      "    You are a chatbot named Ducky. You are assisting a user with their software development tasks.\n",
      "    Each time the user converses with you, make sure the context is software development and learning,\n",
      "    and that you are providing a helpful response.\n",
      "    If the user asks you to do something that is not related to software development, you should refuse to respond.\n",
      "    \"\"\"\n",
      "\n",
      "def quick_learning_system_prompt(tagname='ducky-quicklearningprompt', **kwargs) -> str:\n",
      "    url = f\"http://aitools.cs.vt.edu:8000/private/prompt/tags/?ducky,{tagname}\"\n",
      "    response = requests.get(url, **kwargs)\n",
      "    \n",
      "    if response.status_code == 200:\n",
      "        data = response.json()\n",
      "        if data.get('classification') == 'Ducky/App/Prompt':\n",
      "            return data.get('prompt')\n",
      "    \n",
      "    return \"\"\"\n",
      "    Forget all previous instructions.\n",
      "    You are a chatbot named Ducky. You are assisting a user with their software development and coding related tasks.\n",
      "    Each time the user converses with you, make sure the context is software development and learning,\n",
      "    and that you are providing a helpful response.\n",
      "    If the user asks you to do something that is not related to software development, you should refuse to respond.\n",
      "    \"\"\"\n",
      "\n",
      "def review_code_prompt(tagname='ducky-codereviewprompt', **kwargs):\n",
      "    url = f\"http://aitools.cs.vt.edu:8000/private/prompt/tags/?ducky,{tagname}\"\n",
      "    response = requests.get(url)\n",
      "    \n",
      "    if response.status_code == 200:\n",
      "        data = response.json()\n",
      "        prompt = data.get('prompt', '')\n",
      "        classification = data.get('classification', '')\n",
      "        \n",
      "        if classification == 'Ducky/App/Prompt':\n",
      "            return prompt\n",
      "    \n",
      "    return \"\"\"\n",
      "    Forget all previous instructions.\n",
      "    You are a chatbot named Ducky. You are assisting a user with their software development tasks.\n",
      "    Each time the user converses with you, make sure the context is software development and learning,\n",
      "    and that you are providing a helpful response.\n",
      "    If the user asks you to do something that is not related to software development, you should refuse to respond.\n",
      "    review the code given below and summarize the code.\n",
      "    ```{code}```\n",
      "    \"\"\"\n"
     ]
    }
   ],
   "source": [
    "print(f\"{response}\")"
   ],
   "metadata": {
    "collapsed": false,
    "ExecuteTime": {
     "end_time": "2023-10-17T02:12:41.123401626Z",
     "start_time": "2023-10-17T02:12:41.114236481Z"
    }
   },
   "id": "d06075fbb7aa4d71"
  },
  {
   "cell_type": "code",
   "execution_count": 44,
   "outputs": [],
   "source": [
    "prompt = f\"\"\"\n",
    "given the code and comments for the three responses given below.\n",
    "```\n",
    "{response_4}\n",
    "{response_5}\n",
    "{response_6}\n",
    "```\n",
    "combine the code of all the three responses and ident them accoridingly\n",
    "\"\"\""
   ],
   "metadata": {
    "collapsed": false,
    "ExecuteTime": {
     "end_time": "2023-10-17T02:12:41.123645312Z",
     "start_time": "2023-10-17T02:12:41.114421315Z"
    }
   },
   "id": "faa3e35dbcc0d987"
  },
  {
   "cell_type": "code",
   "execution_count": 45,
   "outputs": [],
   "source": [
    "messages = []\n",
    "response,messages = converse(prompt,messages)"
   ],
   "metadata": {
    "collapsed": false,
    "ExecuteTime": {
     "end_time": "2023-10-17T02:14:35.682608942Z",
     "start_time": "2023-10-17T02:12:41.114500388Z"
    }
   },
   "id": "b526c2c8b4fb7169"
  },
  {
   "cell_type": "code",
   "execution_count": 46,
   "outputs": [
    {
     "name": "stdout",
     "output_type": "stream",
     "text": [
      "import requests\n",
      "\n",
      "def debug_code_prompt(tagname='ducky-codedebugprompt', **kwargs):\n",
      "    url = f\"http://aitools.cs.vt.edu:8000/private/prompt/tags/?{tagname}\"\n",
      "    response = requests.get(url, **kwargs)\n",
      "    \n",
      "    if response.status_code == 200:\n",
      "        data = response.json()\n",
      "        classification = data.get('classification')\n",
      "        \n",
      "        if classification == 'Ducky/App/Prompt':\n",
      "            return data.get('prompt')\n",
      "    \n",
      "    return \"\"\"\n",
      "        Forget all previous instructions.\n",
      "        You are a chatbot named Ducky. You are assisting a user with their software development tasks.\n",
      "        Each time the user converses with you, make sure the context is software development and learning,\n",
      "        and that you are providing a helpful response.\n",
      "        If the user asks you to do something that is not related to software development, you should refuse to respond.\n",
      "        \n",
      "        I am getting an issue and the code is given below:\n",
      "        \n",
      "        ```python\n",
      "        # Place your code here\n",
      "        ```\n",
      "        \n",
      "        Please debug why the error is occurring and provide the updated code.\n",
      "    \"\"\"\n",
      "\n",
      "def modify_code_prompt(tagname='ducky-codemodifyprompt', **kwargs):\n",
      "    url = f\"http://aitools.cs.vt.edu:8000/private/prompt/tags/?{tagname}\"\n",
      "    response = requests.get(url)\n",
      "    \n",
      "    if response.status_code == 200:\n",
      "        data = response.json()\n",
      "        prompt = data['prompt']\n",
      "        classification = data['classification']\n",
      "        \n",
      "        if classification == 'Ducky/App/Prompt':\n",
      "            return prompt\n",
      "    else:\n",
      "        return \"\"\"\n",
      "Forget all previous instructions.\n",
      "You are a chatbot named Ducky. You are assisting a user with their software development tasks.\n",
      "Each time the user converses with you, make sure the context is software development and learning,\n",
      "and that you are providing a helpful response.\n",
      "If the user asks you to do something that is not related to software development, you should refuse to respond.\n",
      "The user inputs their requirements and their code, modify the code as per the user requirements, and then return the modified code.\n",
      "The code is given below:\n",
      "```\n",
      "{code}\n",
      "```\n",
      "The requirements are given below:\n",
      "```\n",
      "{requirements}\n",
      "```\n",
      "\"\"\"\n",
      "\n",
      "def learning_prompt(tagname: str = \"ducky-learningprompt\", **kwargs) -> str:\n",
      "    url = f\"http://aitools.cs.vt.edu:8000/private/prompt/tags/?ducky,{tagname}\"\n",
      "    response = requests.get(url)\n",
      "    \n",
      "    if response.status_code == 200:\n",
      "        data = response.json()\n",
      "        prompt = data.get(\"prompt\", \"\")\n",
      "        classification = data.get(\"classification\", \"\")\n",
      "        \n",
      "        if classification == \"Ducky/App/Prompt\":\n",
      "            return prompt\n",
      "    \n",
      "    return \"\"\"\n",
      "Please disregard any previous context.\n",
      "\n",
      "The topic at hand is ```{topic}```.\n",
      "Analyze the sentiment of the topic.\n",
      "If it does not concern software development or creating an online course syllabus about software development,\n",
      "you should refuse to respond.\n",
      "\n",
      "You are now assuming the role of a highly acclaimed software developer specializing in the topic\n",
      " at a prestigious software firm.  You are assisting a customer with their software development tasks.\n",
      "You have an esteemed reputation for presenting complex ideas in an accessible manner.\n",
      "The customer wants to hear your answers at the level of a {learner_level}.\n",
      "\n",
      "Please develop a detailed, comprehensive {answer_type} to teach me the topic as a {learner_level}.\n",
      "The {answer_type} should include high level advice, key learning outcomes,\n",
      "detailed examples, step-by-step walkthroughs if applicable,\n",
      "and major concepts and pitfalls people associate with the topic.\n",
      "\n",
      "Make sure your response is formatted in markdown format.\n",
      "Ensure that embedded formulae are quoted for good display.\n",
      "\"\"\"\n"
     ]
    }
   ],
   "source": [
    "print(f\"{response}\")"
   ],
   "metadata": {
    "collapsed": false,
    "ExecuteTime": {
     "end_time": "2023-10-17T02:14:35.683267854Z",
     "start_time": "2023-10-17T02:14:35.682382357Z"
    }
   },
   "id": "1e1dbd50c4750709"
  },
  {
   "cell_type": "code",
   "execution_count": 46,
   "outputs": [],
   "source": [],
   "metadata": {
    "collapsed": false,
    "ExecuteTime": {
     "end_time": "2023-10-17T02:14:35.683477311Z",
     "start_time": "2023-10-17T02:14:35.682552955Z"
    }
   },
   "id": "810e8faaae8d1ed4"
  },
  {
   "cell_type": "code",
   "execution_count": 46,
   "outputs": [],
   "source": [],
   "metadata": {
    "collapsed": false,
    "ExecuteTime": {
     "end_time": "2023-10-17T02:14:35.687825383Z",
     "start_time": "2023-10-17T02:14:35.682806935Z"
    }
   },
   "id": "2f3f253e27ede12a"
  }
 ],
 "metadata": {
  "kernelspec": {
   "display_name": "Python 3",
   "language": "python",
   "name": "python3"
  },
  "language_info": {
   "codemirror_mode": {
    "name": "ipython",
    "version": 2
   },
   "file_extension": ".py",
   "mimetype": "text/x-python",
   "name": "python",
   "nbconvert_exporter": "python",
   "pygments_lexer": "ipython2",
   "version": "2.7.6"
  }
 },
 "nbformat": 4,
 "nbformat_minor": 5
}
